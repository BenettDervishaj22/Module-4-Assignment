{
 "cells": [
  {
   "cell_type": "code",
   "execution_count": 1,
   "id": "c569c0d5-d0b1-4068-a428-5b15a8fa082b",
   "metadata": {},
   "outputs": [],
   "source": [
    "#Allow output from every line\n",
    "from IPython.core.interactiveshell import InteractiveShell\n",
    "InteractiveShell.ast_node_interactivity = \"all\"\n",
    "import pandas as pd\n",
    "import numpy as np"
   ]
  },
  {
   "cell_type": "code",
   "execution_count": 2,
   "id": "241aea66-06bd-4298-a216-b12d7408c6ed",
   "metadata": {},
   "outputs": [],
   "source": [
    "# Reading CSV with Index = Name\n",
    "NYM = pd.read_csv(\"NYM2024Roster.csv\", index_col = \"Name\")\n",
    "PHI = pd.read_csv(\"PHI2024Roster.csv\", index_col = \"Name\")\n",
    "ATL = pd.read_csv(\"ATL2024Roster.csv\", index_col = \"Name\")\n",
    "LAD = pd.read_csv(\"LAD2024Roster.csv\", index_col = \"Name\")"
   ]
  },
  {
   "cell_type": "code",
   "execution_count": 3,
   "id": "3505537c-397c-45c4-87e3-0f7071923c53",
   "metadata": {},
   "outputs": [],
   "source": [
    "# Concatenate to combine the four rosters into one CSV\n",
    "NL_Teams = pd.concat([NYM,PHI,ATL,LAD])\n",
    "NL_Teams.to_csv(\"NYM,PHI,ATL,LAD 2024 Rosters.csv\", index = True)"
   ]
  },
  {
   "cell_type": "code",
   "execution_count": 4,
   "id": "9e07cdb8-76a5-4dd6-9181-225debdd4313",
   "metadata": {},
   "outputs": [],
   "source": [
    "# All Data obtained from Baseball Reference"
   ]
  }
 ],
 "metadata": {
  "kernelspec": {
   "display_name": "Python 3 (ipykernel)",
   "language": "python",
   "name": "python3"
  },
  "language_info": {
   "codemirror_mode": {
    "name": "ipython",
    "version": 3
   },
   "file_extension": ".py",
   "mimetype": "text/x-python",
   "name": "python",
   "nbconvert_exporter": "python",
   "pygments_lexer": "ipython3",
   "version": "3.12.7"
  }
 },
 "nbformat": 4,
 "nbformat_minor": 5
}
